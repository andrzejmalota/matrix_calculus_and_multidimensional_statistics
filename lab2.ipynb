{
 "cells": [
  {
   "cell_type": "code",
   "execution_count": 1,
   "metadata": {},
   "outputs": [],
   "source": [
    "import numpy as np"
   ]
  },
  {
   "cell_type": "code",
   "execution_count": 2,
   "metadata": {},
   "outputs": [],
   "source": [
    "A = np.array([[3, 2, 1], [2, 3, 1], [1, 2, 3]])\n",
    "B = np.array([[39, 34, 26]])"
   ]
  },
  {
   "cell_type": "markdown",
   "metadata": {},
   "source": [
    "# 1. Rozwiązanie układu równań metodą Chińska z 179 r p.n.e."
   ]
  },
  {
   "cell_type": "code",
   "execution_count": 3,
   "metadata": {},
   "outputs": [],
   "source": [
    "def china(A, B):\n",
    "    A_B = np.concatenate((A, B.T), axis=1).astype(np.float32)\n",
    "    \n",
    "    # second row\n",
    "    A_B[1, :] = A_B[1, :] * np.max(A_B[0, :-1])\n",
    "    while A_B[1, 0] != 0:\n",
    "        A_B[1, :] = A_B[1, :] - A_B[0, :]\n",
    "    \n",
    "    # third row\n",
    "    A_B[2, :] = A_B[2, :] * np.max(A_B[0, :-1])\n",
    "    while A_B[2, 0] != 0:\n",
    "        A_B[2, :] = A_B[2, :] - A_B[0, :]\n",
    "        \n",
    "    A_B[2, :] = A_B[2, :] * np.max(A_B[1, :-1])\n",
    "    while A_B[2, 1] != 0:\n",
    "        A_B[2, :] = A_B[2, :] - A_B[1, :]\n",
    "        \n",
    "    x3 = A_B[2, 3] / A_B[2, 2]\n",
    "    x2 = (A_B[1, 3] - (A_B[1, 2] * x3)) / A_B[1, 1]\n",
    "    x1 = (A_B[0, 3] - (A_B[0, 1] * x2) - (A_B[0, 2] * x3)) / A_B[0, 0]\n",
    "\n",
    "    return np.array([x1, x2, x3])"
   ]
  },
  {
   "cell_type": "code",
   "execution_count": 4,
   "metadata": {
    "scrolled": true
   },
   "outputs": [
    {
     "data": {
      "text/plain": [
       "array([9.25, 4.25, 2.75], dtype=float32)"
      ]
     },
     "execution_count": 4,
     "metadata": {},
     "output_type": "execute_result"
    }
   ],
   "source": [
    "china(A, B)"
   ]
  },
  {
   "cell_type": "markdown",
   "metadata": {},
   "source": [
    "# 5. Algorytm eliminacji Gaussa z pivotingiem"
   ]
  },
  {
   "cell_type": "code",
   "execution_count": 5,
   "metadata": {},
   "outputs": [],
   "source": [
    "def gauss_pivoting(A, B):\n",
    "    A_B = np.concatenate((A, B.T), axis=1).astype(np.float32)\n",
    "\n",
    "    # first column\n",
    "    max_col_value = np.max(np.vectorize(np.abs)(A_B[:, 0]))\n",
    "    row_num = np.where(A_B[:, 0] == max_col_value)[0][0]\n",
    "    if row_num != 0:\n",
    "        A_B[[0, row_num]] = A_B[[row_num, 0]]\n",
    "    A_B[1, :] = A_B[1, :] - A_B[0, :]*A_B[1, 0] / A_B[0, 0]\n",
    "    A_B[2, :] = A_B[2, :] - A_B[0, :]*A_B[2, 0] / A_B[0, 0]\n",
    "    \n",
    "    # second column\n",
    "    max_col_value = np.max(np.vectorize(np.abs)(A_B[1:, 1]))\n",
    "    row_num = np.where(A_B[1:, 1] == max_col_value)[0][0] + 1\n",
    "    if row_num != 0:\n",
    "        A_B[[1, row_num]] = A_B[[row_num, 1]]\n",
    "    A_B[2, :] = A_B[2, :] - A_B[1, :]*A_B[2, 1] / A_B[1, 1]\n",
    "    \n",
    "    x3 = A_B[2, 3] / A_B[2, 2]\n",
    "    x2 = (A_B[1, 3] - (A_B[1, 2] * x3)) / A_B[1, 1]\n",
    "    x1 = (A_B[0, 3] - (A_B[0, 1] * x2) - (A_B[0, 2] * x3)) / A_B[0, 0]\n",
    "\n",
    "    return np.array([x1, x2, x3])"
   ]
  },
  {
   "cell_type": "code",
   "execution_count": 6,
   "metadata": {},
   "outputs": [
    {
     "data": {
      "text/plain": [
       "array([9.25, 4.25, 2.75], dtype=float32)"
      ]
     },
     "execution_count": 6,
     "metadata": {},
     "output_type": "execute_result"
    }
   ],
   "source": [
    "gauss_pivoting(A, B)"
   ]
  },
  {
   "cell_type": "markdown",
   "metadata": {},
   "source": [
    "# Check if result is correct"
   ]
  },
  {
   "cell_type": "code",
   "execution_count": 7,
   "metadata": {},
   "outputs": [
    {
     "data": {
      "text/plain": [
       "array([[9.25],\n",
       "       [4.25],\n",
       "       [2.75]])"
      ]
     },
     "execution_count": 7,
     "metadata": {},
     "output_type": "execute_result"
    }
   ],
   "source": [
    "from scipy import linalg\n",
    "linalg.solve(A, B.T)"
   ]
  }
 ],
 "metadata": {
  "kernelspec": {
   "display_name": "Python 3",
   "language": "python",
   "name": "python3"
  },
  "language_info": {
   "codemirror_mode": {
    "name": "ipython",
    "version": 3
   },
   "file_extension": ".py",
   "mimetype": "text/x-python",
   "name": "python",
   "nbconvert_exporter": "python",
   "pygments_lexer": "ipython3",
   "version": "3.8.2"
  }
 },
 "nbformat": 4,
 "nbformat_minor": 4
}
