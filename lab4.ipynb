{
 "cells": [
  {
   "cell_type": "code",
   "execution_count": 1,
   "metadata": {},
   "outputs": [
    {
     "data": {
      "text/plain": [
       "array([[3., 1.],\n",
       "       [1., 2.]], dtype=float32)"
      ]
     },
     "execution_count": 1,
     "metadata": {},
     "output_type": "execute_result"
    }
   ],
   "source": [
    "from scipy import linalg\n",
    "import numpy as np\n",
    "A = np.array([[3, 1], [1, 2]]).astype(np.float32)\n",
    "A"
   ]
  },
  {
   "cell_type": "markdown",
   "metadata": {},
   "source": [
    "# 1. Metoda potęgowa obliczania wartości własnych macierzy 2x2"
   ]
  },
  {
   "cell_type": "code",
   "execution_count": 2,
   "metadata": {},
   "outputs": [],
   "source": [
    "def eigenvalues(A, epsilon):\n",
    "    eigenvalues = []\n",
    "    for c in range(A.shape[0]):\n",
    "        eigenvalue, eigenvector = power_method(A, epsilon)\n",
    "        eigenvalues.append(eigenvalue)\n",
    "        A_0 = np.expand_dims(A[0,:].T.shape, 1)\n",
    "        A -= eigenvector@ A_0 / eigenvector[0]\n",
    "    return np.asarray(eigenvalues)\n",
    "        \n",
    "def power_method(A, epsilon):\n",
    "    Z = np.array([1, 1]).T\n",
    "    cnt = 0\n",
    "    while True:\n",
    "        W = A @ Z\n",
    "        eigenvalue = Z.max()\n",
    "        e = linalg.norm(W - (eigenvalue*Z))\n",
    "        if e < epsilon:\n",
    "            break\n",
    "        \n",
    "        Z = W / eigenvalue\n",
    "        cnt += 1\n",
    "        \n",
    "    return eigenvalue, np.expand_dims(Z, 1)"
   ]
  },
  {
   "cell_type": "code",
   "execution_count": 3,
   "metadata": {},
   "outputs": [
    {
     "data": {
      "text/plain": [
       "array([3.63636364, 1.38287671])"
      ]
     },
     "execution_count": 3,
     "metadata": {},
     "output_type": "execute_result"
    }
   ],
   "source": [
    "eigenvalues(A, 0.1)"
   ]
  },
  {
   "cell_type": "markdown",
   "metadata": {},
   "source": [
    "# Check if result is correct"
   ]
  },
  {
   "cell_type": "code",
   "execution_count": 4,
   "metadata": {},
   "outputs": [
    {
     "data": {
      "text/plain": [
       "array([3.618034+0.j, 1.381966+0.j], dtype=complex64)"
      ]
     },
     "execution_count": 4,
     "metadata": {},
     "output_type": "execute_result"
    }
   ],
   "source": [
    "A = np.array([[3, 1], [1, 2]]).astype(np.float32)\n",
    "linalg.eigvals(A)"
   ]
  }
 ],
 "metadata": {
  "kernelspec": {
   "display_name": "Python 3",
   "language": "python",
   "name": "python3"
  },
  "language_info": {
   "codemirror_mode": {
    "name": "ipython",
    "version": 3
   },
   "file_extension": ".py",
   "mimetype": "text/x-python",
   "name": "python",
   "nbconvert_exporter": "python",
   "pygments_lexer": "ipython3",
   "version": "3.7.0"
  }
 },
 "nbformat": 4,
 "nbformat_minor": 4
}
