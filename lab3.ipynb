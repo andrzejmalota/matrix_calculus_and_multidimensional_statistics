{
 "cells": [
  {
   "cell_type": "code",
   "execution_count": 1,
   "metadata": {},
   "outputs": [],
   "source": [
    "import numpy as np\n",
    "from itertools import product"
   ]
  },
  {
   "cell_type": "code",
   "execution_count": 2,
   "metadata": {},
   "outputs": [],
   "source": [
    "A = np.array([[3, 2, 1], [2, 3, 1], [1, 2, 3]])\n",
    "B = np.array([[39, 34, 26]])"
   ]
  },
  {
   "cell_type": "markdown",
   "metadata": {},
   "source": [
    "# 6. Algorytm obliczania macierzy A^(−1)"
   ]
  },
  {
   "cell_type": "code",
   "execution_count": 3,
   "metadata": {},
   "outputs": [],
   "source": [
    "def det_2x2(A):\n",
    "    return A[0,0] * A[1,1] - A[0, 1] * A[1, 0]"
   ]
  },
  {
   "cell_type": "code",
   "execution_count": 4,
   "metadata": {},
   "outputs": [],
   "source": [
    "def det_3x3(A):\n",
    "    n = A.shape[0]\n",
    "    signs_vector = np.array([np.power(-1,x+1) for x in range(1, n+1)])\n",
    "    det_2x2_vector = np.array([det_2x2(build_minor(A, 0, col)) * A[0,col] for col in range(0, n)])\n",
    "    return np.sum(signs_vector * det_2x2_vector)"
   ]
  },
  {
   "cell_type": "code",
   "execution_count": 5,
   "metadata": {},
   "outputs": [],
   "source": [
    "def build_minor(A, i, j):\n",
    "    n = A.shape[0]\n",
    "    all_indexes = set(product(list(range(n)), list(range(n))))\n",
    "    crossed_indexes = set([(i, x) for x in range(n)]) | set([(x, j) for x in range(n)])\n",
    "    allowed_indexes = np.array(sorted(list(all_indexes - crossed_indexes), key=lambda x: (x[0], x[1])))\n",
    "    return A[allowed_indexes[:, 0], allowed_indexes[:, 1]].reshape(n-1, n-1)"
   ]
  },
  {
   "cell_type": "code",
   "execution_count": 6,
   "metadata": {},
   "outputs": [],
   "source": [
    "def transpose(A):\n",
    "    return np.vstack([A[:, col].reshape(1, -1) for col in range(A.shape[0])])"
   ]
  },
  {
   "cell_type": "code",
   "execution_count": 7,
   "metadata": {},
   "outputs": [],
   "source": [
    "def complement(A):\n",
    "    n = A.shape[0]\n",
    "    signs_vector = np.array([[np.power(-1,x+row) for x in range(1, n+1)] for row in range(1, n+1)])\n",
    "    det_2x2_vector = np.array([[det_2x2(build_minor(A, row, col)) for col in range(0, n)] for row in range(0, n)])\n",
    "    return signs_vector * det_2x2_vector"
   ]
  },
  {
   "cell_type": "code",
   "execution_count": 8,
   "metadata": {},
   "outputs": [],
   "source": [
    "def inverse(A):\n",
    "    return transpose(complement(A)) / det_3x3(A)"
   ]
  },
  {
   "cell_type": "code",
   "execution_count": 9,
   "metadata": {},
   "outputs": [
    {
     "data": {
      "text/plain": [
       "array([[ 0.58333333, -0.33333333, -0.08333333],\n",
       "       [-0.41666667,  0.66666667, -0.08333333],\n",
       "       [ 0.08333333, -0.33333333,  0.41666667]])"
      ]
     },
     "execution_count": 9,
     "metadata": {},
     "output_type": "execute_result"
    }
   ],
   "source": [
    "inverse(A)"
   ]
  },
  {
   "cell_type": "markdown",
   "metadata": {},
   "source": [
    "# Check if result is correct"
   ]
  },
  {
   "cell_type": "code",
   "execution_count": 10,
   "metadata": {},
   "outputs": [
    {
     "data": {
      "text/plain": [
       "array([[ 0.58333333, -0.33333333, -0.08333333],\n",
       "       [-0.41666667,  0.66666667, -0.08333333],\n",
       "       [ 0.08333333, -0.33333333,  0.41666667]])"
      ]
     },
     "execution_count": 10,
     "metadata": {},
     "output_type": "execute_result"
    }
   ],
   "source": [
    "from scipy import linalg\n",
    "linalg.inv(A)"
   ]
  }
 ],
 "metadata": {
  "kernelspec": {
   "display_name": "Python 3",
   "language": "python",
   "name": "python3"
  },
  "language_info": {
   "codemirror_mode": {
    "name": "ipython",
    "version": 3
   },
   "file_extension": ".py",
   "mimetype": "text/x-python",
   "name": "python",
   "nbconvert_exporter": "python",
   "pygments_lexer": "ipython3",
   "version": "3.8.2"
  }
 },
 "nbformat": 4,
 "nbformat_minor": 4
}
