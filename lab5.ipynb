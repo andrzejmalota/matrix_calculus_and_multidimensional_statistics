{
 "cells": [
  {
   "cell_type": "code",
   "execution_count": 1,
   "metadata": {},
   "outputs": [
    {
     "data": {
      "text/plain": [
       "array([[1., 2., 0.],\n",
       "       [2., 0., 2.]], dtype=float32)"
      ]
     },
     "execution_count": 1,
     "metadata": {},
     "output_type": "execute_result"
    }
   ],
   "source": [
    "import numpy as np\n",
    "from scipy import linalg\n",
    "np.set_printoptions(suppress=True)\n",
    "A = np.array([[1, 2, 0], [2, 0, 2]]).astype(np.float32)\n",
    "A"
   ]
  },
  {
   "cell_type": "markdown",
   "metadata": {},
   "source": [
    "# 2. Singular Value Decomposition dla macierzy 2x3"
   ]
  },
  {
   "cell_type": "code",
   "execution_count": 2,
   "metadata": {},
   "outputs": [],
   "source": [
    "def svd(A):\n",
    "    AAT = A @ A.T\n",
    "    ATA = A.T @ A\n",
    "    S = calc_S(AAT)\n",
    "    U = calc_U(AAT)\n",
    "    V = calc_V(A, U, S)\n",
    "    return U.astype(np.float32), S.astype(np.float32), V.astype(np.float32)\n",
    "    \n",
    "def calc_S(A):\n",
    "    lambdas = np.sort(linalg.eigvals(A))[::-1]\n",
    "    return np.sqrt(lambdas)\n",
    "\n",
    "def calc_U(A):\n",
    "    lambdas = np.sort(linalg.eigvals(A))[::-1]\n",
    "    \n",
    "    A_lambda1 = A - np.eye(A.shape[0]) * lambdas[0]\n",
    "    A_lambda1 = np.array([-A_lambda1[0, 1], A_lambda1[0, 0]])\n",
    "    u1 = A_lambda1 / A_lambda1.min()\n",
    "    u1 = np.expand_dims((1/linalg.norm(u1) * u1).T, 1)\n",
    "    \n",
    "    A_lambda1 = A - np.eye(A.shape[0]) * lambdas[1]\n",
    "    A_lambda1 = np.array([-A_lambda1[0, 1], A_lambda1[0, 0]])\n",
    "    u2 = A_lambda1 / A_lambda1.min()\n",
    "    u2 = np.expand_dims((1/linalg.norm(u2) * u2).T, 1)\n",
    "    \n",
    "    return np.concatenate([u1, u2], 1)\n",
    "\n",
    "def calc_V(A, U, S):\n",
    "    v1 = 1/S[0] * A.T @ U[:,0]\n",
    "    v2 = 1/S[1] * A.T @ U[:,1]\n",
    "    v1 = np.expand_dims(v1, 0)\n",
    "    v2 = np.expand_dims(v2, 0)\n",
    "    \n",
    "    ATA = A.T @ A\n",
    "    lambdas = np.sort(linalg.eigvals(ATA))[::-1]\n",
    "    A_lambda1 = ATA - np.eye(ATA.shape[0]) * lambdas[2]\n",
    "    #fix v11=1 and solve rest\n",
    "    v3_23 = linalg.solve(A_lambda1[:-1, 1:], -A_lambda1[:-1, 0])\n",
    "    A_lambda1 = np.array([1, v3_23[0], v3_23[1]])\n",
    "    v3 = A_lambda1 / A_lambda1.min()\n",
    "    v3 = np.expand_dims((1/linalg.norm(v3) * v3), 0)\n",
    "    \n",
    "    return np.concatenate([v1, v2, v3])"
   ]
  },
  {
   "cell_type": "code",
   "execution_count": 3,
   "metadata": {},
   "outputs": [
    {
     "name": "stderr",
     "output_type": "stream",
     "text": [
      "/home/andrzej/anaconda3/envs/ed/lib/python3.7/site-packages/ipykernel_launcher.py:7: ComplexWarning: Casting complex values to real discards the imaginary part\n",
      "  import sys\n"
     ]
    },
    {
     "data": {
      "text/plain": [
       "(array([[ 0.4472136,  0.8944272],\n",
       "        [ 0.8944272, -0.4472136]], dtype=float32),\n",
       " array([3., 2.], dtype=float32),\n",
       " array([[ 0.745356  ,  0.2981424 ,  0.5962848 ],\n",
       "        [ 0.        ,  0.8944272 , -0.4472136 ],\n",
       "        [-0.6666667 ,  0.33333334,  0.6666667 ]], dtype=float32))"
      ]
     },
     "execution_count": 3,
     "metadata": {},
     "output_type": "execute_result"
    }
   ],
   "source": [
    "svd(A)"
   ]
  },
  {
   "cell_type": "markdown",
   "metadata": {},
   "source": [
    "# Check if result is correct"
   ]
  },
  {
   "cell_type": "code",
   "execution_count": 4,
   "metadata": {},
   "outputs": [
    {
     "data": {
      "text/plain": [
       "(array([[ 0.44721377,  0.8944272 ],\n",
       "        [ 0.8944272 , -0.44721368]], dtype=float32),\n",
       " array([3.       , 1.9999998], dtype=float32),\n",
       " array([[ 0.7453559 ,  0.29814234,  0.59628487],\n",
       "        [ 0.        ,  0.8944272 , -0.44721362],\n",
       "        [-0.6666667 ,  0.33333337,  0.6666666 ]], dtype=float32))"
      ]
     },
     "execution_count": 4,
     "metadata": {},
     "output_type": "execute_result"
    }
   ],
   "source": [
    "linalg.svd(A)"
   ]
  }
 ],
 "metadata": {
  "kernelspec": {
   "display_name": "Python 3",
   "language": "python",
   "name": "python3"
  },
  "language_info": {
   "codemirror_mode": {
    "name": "ipython",
    "version": 3
   },
   "file_extension": ".py",
   "mimetype": "text/x-python",
   "name": "python",
   "nbconvert_exporter": "python",
   "pygments_lexer": "ipython3",
   "version": "3.7.0"
  }
 },
 "nbformat": 4,
 "nbformat_minor": 4
}
